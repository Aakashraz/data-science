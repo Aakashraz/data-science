{
 "cells": [
  {
   "cell_type": "code",
   "execution_count": 2,
   "id": "1672328b-ad00-4bcc-a800-6fb29173c420",
   "metadata": {
    "ExecuteTime": {
     "end_time": "2025-03-14T16:12:32.226350Z",
     "start_time": "2025-03-14T16:12:32.064603Z"
    }
   },
   "outputs": [],
   "source": [
    "import numpy as np"
   ]
  },
  {
   "cell_type": "code",
   "execution_count": 2,
   "id": "ce5100e3-3906-4caa-bd1d-870cad43a7f8",
   "metadata": {
    "ExecuteTime": {
     "end_time": "2025-03-14T16:12:41.249373Z",
     "start_time": "2025-03-14T16:12:41.244430Z"
    }
   },
   "outputs": [],
   "source": [
    "a= np.array([1,.3, 43,54,9.65])"
   ]
  },
  {
   "cell_type": "code",
   "execution_count": 3,
   "id": "476d1e9b-d0df-40d9-b154-917dc9c2e64b",
   "metadata": {},
   "outputs": [],
   "source": [
    "b= a[2:]"
   ]
  },
  {
   "cell_type": "code",
   "execution_count": 4,
   "id": "217fa9d0-f068-4159-b377-58034600346b",
   "metadata": {
    "ExecuteTime": {
     "end_time": "2025-03-14T16:12:43.404509Z",
     "start_time": "2025-03-14T16:12:43.351845Z"
    }
   },
   "outputs": [],
   "source": [
    "b[0]=33\n",
    "q = np.array([[[1, 2, 3, 4], [5, 6, 7, 8], [9, 10, 11, 12]], \n",
    "              [[23, 43, 4, 5],[1, 2, 3, 7],[5, 6, 7, 8]]])\n"
   ]
  },
  {
   "cell_type": "code",
   "execution_count": 15,
   "id": "d0104917-0fe3-412b-b21c-4fb2330bbcad",
   "metadata": {},
   "outputs": [
    {
     "data": {
      "text/plain": [
       "np.int64(7)"
      ]
     },
     "execution_count": 15,
     "metadata": {},
     "output_type": "execute_result"
    }
   ],
   "source": [
    "q[1,2,2]"
   ]
  },
  {
   "cell_type": "code",
   "execution_count": 47,
   "id": "7c01b6ad-0c3d-4df9-9522-566bcfbd6e9b",
   "metadata": {},
   "outputs": [
    {
     "data": {
      "text/plain": [
       "dtype('int64')"
      ]
     },
     "execution_count": 47,
     "metadata": {},
     "output_type": "execute_result"
    }
   ],
   "source": [
    "# The shape of an array is a tuple of non-negative integers that specify the number of elements along each dimension.\n",
    "# q.shape\n",
    "\n",
    "# The number of dimensions of an array is contained in the ndim attribute.\n",
    "# q.ndim\n",
    "\n",
    "# The fixed, total number of elements in array is contained in the size attribute.\n",
    "# q.size\n",
    "\n",
    "# The data type is recorded in the dtype attribute.\n",
    "q.dtype\n",
    "# type(q)"
   ]
  },
  {
   "cell_type": "code",
   "execution_count": 6,
   "id": "163251c2-655c-40e5-b723-771b98ffdc98",
   "metadata": {},
   "outputs": [],
   "source": [
    "d = {1: 'A'}\n",
    "b= np.array([[1,23,3], \n",
    "             [3, d,9], \n",
    "             [5,6,6]])\n"
   ]
  },
  {
   "cell_type": "code",
   "execution_count": 9,
   "id": "cd5a31d7-8f83-4d01-baea-78d952f527a5",
   "metadata": {},
   "outputs": [
    {
     "name": "stdout",
     "output_type": "stream",
     "text": [
      "object\n"
     ]
    },
    {
     "data": {
      "text/plain": [
       "dtype('O')"
      ]
     },
     "execution_count": 9,
     "metadata": {},
     "output_type": "execute_result"
    }
   ],
   "source": [
    "print(b.dtype)\n",
    "b.dtype"
   ]
  },
  {
   "cell_type": "code",
   "execution_count": 16,
   "id": "adc3c4b8-e985-4d91-9e67-2d39b3900527",
   "metadata": {},
   "outputs": [
    {
     "data": {
      "text/plain": [
       "array([[['555', '555', '555', '555'],\n",
       "        ['555', '555', '555', '555']],\n",
       "\n",
       "       [['555', '555', '555', '555'],\n",
       "        ['555', '555', '555', '555']],\n",
       "\n",
       "       [['555', '555', '555', '555'],\n",
       "        ['555', '555', '555', '555']]], dtype='<U3')"
      ]
     },
     "execution_count": 16,
     "metadata": {},
     "output_type": "execute_result"
    }
   ],
   "source": [
    "# Besides creating an array from a sequence of elements, you can easily create an array filled with 0’s:\n",
    "# np.zeros(4)\n",
    "\n",
    "# Or an array filled with 1’s:\n",
    "# np.ones(3)\n",
    "\n",
    "# The function empty creates an array whose initial content is random and depends on the state of the memory.\n",
    "# np.empty(2)\n",
    "\n",
    "# The NumPy full() function in Python is used to create an array with a specified shape and fill it with a given value.\n",
    "# np.full((3,2,4),99)\n",
    "# Ex- Return array with dtype=str\n",
    "np.full(shape=(3,2,4),fill_value='555', dtype='<U3')"
   ]
  },
  {
   "cell_type": "code",
   "execution_count": 32,
   "id": "68a5c0f7-1038-404f-8f5e-f0422e533e31",
   "metadata": {},
   "outputs": [
    {
     "data": {
      "text/plain": [
       "array([   0.,   53.,  106.,  159.,  212.,  265.,  318.,  371.,  424.,\n",
       "        477.,  530.,  583.,  636.,  689.,  742.,  795.,  848.,  901.,\n",
       "        954., 1007.])"
      ]
     },
     "execution_count": 32,
     "metadata": {},
     "output_type": "execute_result"
    }
   ],
   "source": [
    "# You can create an array with a range of elements:\n",
    "# np.arange(2,19,2.3)\n",
    "\n",
    "# You can also use np.linspace() to create an array with values that are spaced linearly in a specified interva\n",
    "np.linspace(0, 1007, num=20)"
   ]
  },
  {
   "cell_type": "code",
   "execution_count": 25,
   "id": "1509810b-cb9d-4033-99ed-c4cf2ae25559",
   "metadata": {
    "scrolled": true
   },
   "outputs": [
    {
     "name": "stderr",
     "output_type": "stream",
     "text": [
      "C:\\Users\\USER\\AppData\\Local\\Temp\\ipykernel_14356\\3236165812.py:1: RuntimeWarning: invalid value encountered in sqrt\n",
      "  np.sqrt(-1)\n"
     ]
    },
    {
     "data": {
      "text/plain": [
       "np.float64(nan)"
      ]
     },
     "execution_count": 25,
     "metadata": {},
     "output_type": "execute_result"
    }
   ],
   "source": [
    "np.sqrt(-1)\n",
    "# np.array([2])/0"
   ]
  },
  {
   "cell_type": "code",
   "execution_count": 37,
   "id": "0113fc25-cf43-4224-93df-0cf36dad1a1e",
   "metadata": {},
   "outputs": [
    {
     "data": {
      "text/plain": [
       "array([[ 3,  8, 15],\n",
       "       [ 5, 12, 21]])"
      ]
     },
     "execution_count": 37,
     "metadata": {},
     "output_type": "execute_result"
    }
   ],
   "source": [
    "a1= np.array([1,2,3])\n",
    "a2 = np.array([[3,4,5],\n",
    "             [5,6,7]])\n",
    "\n",
    "# a2@a1\n",
    "a1*a2"
   ]
  },
  {
   "cell_type": "code",
   "execution_count": 24,
   "id": "5adea83a-0880-4187-bf1a-caff27ac358d",
   "metadata": {},
   "outputs": [
    {
     "name": "stdout",
     "output_type": "stream",
     "text": [
      "[42 51 60] [20 47 74] [42 51 60] [20 47 74]\n"
     ]
    }
   ],
   "source": [
    "v = np.array([2,3,4])\n",
    "M = np.array([[1,2,3],\n",
    "             [4,5,6],\n",
    "             [7,8,9]])\n",
    "p= v@M\n",
    "q = M@v\n",
    "r= np.dot(v,M)\n",
    "s= np.dot(M, v)\n",
    "print(p, q, r,s)"
   ]
  },
  {
   "cell_type": "code",
   "execution_count": 37,
   "id": "aa09d8c3-8689-4d3a-be77-56168c63f9ac",
   "metadata": {},
   "outputs": [
    {
     "name": "stdout",
     "output_type": "stream",
     "text": [
      "[ 5  6  7  8  9 10 11 12]\n",
      "[ 2  4  6  8 10 12]\n"
     ]
    }
   ],
   "source": [
    "arr = np.array([[1 , 2, 3, 4], [5, 6, 7, 8], [9, 10, 11, 12]])\n",
    "five_up = (arr>=5)\n",
    "print(arr[five_up])\n",
    "even = (arr%2==0)\n",
    "print(a[even])"
   ]
  },
  {
   "cell_type": "code",
   "execution_count": 51,
   "id": "8c37ddd9-b2d3-4c9e-93db-c4b767c5b6fa",
   "metadata": {},
   "outputs": [
    {
     "data": {
      "text/plain": [
       "array([[1, 1, 3, 3],\n",
       "       [2, 2, 4, 4],\n",
       "       [5, 5, 6, 6]])"
      ]
     },
     "execution_count": 51,
     "metadata": {},
     "output_type": "execute_result"
    }
   ],
   "source": [
    "a1 = np.array([[1,1],[2,2],[5,5]])\n",
    "a2 = np.array([[3,3],[4,4],[6,6]])\n",
    "# np.vstack((a1,a2))\n",
    "np.hstack((a1, a2))"
   ]
  },
  {
   "cell_type": "code",
   "execution_count": 69,
   "id": "439f73f8-f9cc-489b-b42a-17dba2de9c42",
   "metadata": {},
   "outputs": [
    {
     "data": {
      "text/plain": [
       "array([10, 20])"
      ]
     },
     "execution_count": 69,
     "metadata": {},
     "output_type": "execute_result"
    }
   ],
   "source": [
    "data = np.array([10,20])\n",
    "ones = np.ones(2, dtype = int)\n",
    "ones*data"
   ]
  },
  {
   "cell_type": "code",
   "execution_count": 86,
   "id": "a2543d5a-01ae-4b44-9660-1082cba008fa",
   "metadata": {},
   "outputs": [
    {
     "data": {
      "text/plain": [
       "(array([12, 15, 18]), array([ 6, 15, 24]))"
      ]
     },
     "execution_count": 86,
     "metadata": {},
     "output_type": "execute_result"
    }
   ],
   "source": [
    "ss = np.array([[1,2,3],\n",
    "                [4,5,6],\n",
    "                [7,8,9]])\n",
    "sv = ss.sum( axis=0) # Use axis=0 to apply a method down each column, or to the row labels (the index).\n",
    "sc = ss.sum(axis=1) # Use axis=1 to apply a method across each row, or to the column labels.\n",
    "sv, sc"
   ]
  }
 ],
 "metadata": {
  "kernelspec": {
   "display_name": "Python 3 (ipykernel)",
   "language": "python",
   "name": "python3"
  },
  "language_info": {
   "codemirror_mode": {
    "name": "ipython",
    "version": 3
   },
   "file_extension": ".py",
   "mimetype": "text/x-python",
   "name": "python",
   "nbconvert_exporter": "python",
   "pygments_lexer": "ipython3",
   "version": "3.12.9"
  }
 },
 "nbformat": 4,
 "nbformat_minor": 5
}
