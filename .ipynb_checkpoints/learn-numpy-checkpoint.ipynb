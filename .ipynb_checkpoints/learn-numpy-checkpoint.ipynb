{
 "cells": [
  {
   "cell_type": "code",
   "execution_count": 1,
   "id": "1672328b-ad00-4bcc-a800-6fb29173c420",
   "metadata": {
    "ExecuteTime": {
     "end_time": "2025-03-14T16:12:32.226350Z",
     "start_time": "2025-03-14T16:12:32.064603Z"
    }
   },
   "outputs": [],
   "source": [
    "import numpy as np"
   ]
  },
  {
   "cell_type": "code",
   "execution_count": 2,
   "id": "ce5100e3-3906-4caa-bd1d-870cad43a7f8",
   "metadata": {
    "ExecuteTime": {
     "end_time": "2025-03-14T16:12:41.249373Z",
     "start_time": "2025-03-14T16:12:41.244430Z"
    }
   },
   "outputs": [],
   "source": [
    "a= np.array([1,.3, 43,54,9.65])"
   ]
  },
  {
   "cell_type": "code",
   "execution_count": 3,
   "id": "476d1e9b-d0df-40d9-b154-917dc9c2e64b",
   "metadata": {},
   "outputs": [],
   "source": [
    "b= a[2:]"
   ]
  },
  {
   "cell_type": "code",
   "execution_count": 4,
   "id": "217fa9d0-f068-4159-b377-58034600346b",
   "metadata": {
    "ExecuteTime": {
     "end_time": "2025-03-14T16:12:43.404509Z",
     "start_time": "2025-03-14T16:12:43.351845Z"
    }
   },
   "outputs": [],
   "source": [
    "b[0]=33\n",
    "q = np.array([[[1, 2, 3, 4], [5, 6, 7, 8], [9, 10, 11, 12]], \n",
    "              [[23, 43, 4, 5],[1, 2, 3, 7],[5, 6, 7, 8]]])\n"
   ]
  },
  {
   "cell_type": "code",
   "execution_count": 15,
   "id": "d0104917-0fe3-412b-b21c-4fb2330bbcad",
   "metadata": {},
   "outputs": [
    {
     "data": {
      "text/plain": [
       "np.int64(7)"
      ]
     },
     "execution_count": 15,
     "metadata": {},
     "output_type": "execute_result"
    }
   ],
   "source": [
    "q[1,2,2]"
   ]
  },
  {
   "cell_type": "code",
   "execution_count": 47,
   "id": "7c01b6ad-0c3d-4df9-9522-566bcfbd6e9b",
   "metadata": {},
   "outputs": [
    {
     "data": {
      "text/plain": [
       "dtype('int64')"
      ]
     },
     "execution_count": 47,
     "metadata": {},
     "output_type": "execute_result"
    }
   ],
   "source": [
    "# The shape of an array is a tuple of non-negative integers that specify the number of elements along each dimension.\n",
    "# q.shape\n",
    "\n",
    "# The number of dimensions of an array is contained in the ndim attribute.\n",
    "# q.ndim\n",
    "\n",
    "# The fixed, total number of elements in array is contained in the size attribute.\n",
    "# q.size\n",
    "\n",
    "# The data type is recorded in the dtype attribute.\n",
    "q.dtype\n",
    "# type(q)"
   ]
  },
  {
   "cell_type": "code",
   "execution_count": 6,
   "id": "163251c2-655c-40e5-b723-771b98ffdc98",
   "metadata": {},
   "outputs": [],
   "source": [
    "d = {1: 'A'}\n",
    "b= np.array([[1,23,3], \n",
    "             [3, d,9], \n",
    "             [5,6,6]])\n"
   ]
  },
  {
   "cell_type": "code",
   "execution_count": 9,
   "id": "cd5a31d7-8f83-4d01-baea-78d952f527a5",
   "metadata": {},
   "outputs": [
    {
     "name": "stdout",
     "output_type": "stream",
     "text": [
      "object\n"
     ]
    },
    {
     "data": {
      "text/plain": [
       "dtype('O')"
      ]
     },
     "execution_count": 9,
     "metadata": {},
     "output_type": "execute_result"
    }
   ],
   "source": [
    "print(b.dtype)\n",
    "b.dtype"
   ]
  },
  {
   "cell_type": "code",
   "execution_count": 16,
   "id": "adc3c4b8-e985-4d91-9e67-2d39b3900527",
   "metadata": {},
   "outputs": [
    {
     "data": {
      "text/plain": [
       "array([[['9', '9', '9', '9'],\n",
       "        ['9', '9', '9', '9']],\n",
       "\n",
       "       [['9', '9', '9', '9'],\n",
       "        ['9', '9', '9', '9']],\n",
       "\n",
       "       [['9', '9', '9', '9'],\n",
       "        ['9', '9', '9', '9']]], dtype='<U1')"
      ]
     },
     "execution_count": 16,
     "metadata": {},
     "output_type": "execute_result"
    }
   ],
   "source": [
    "# Besides creating an array from a sequence of elements, you can easily create an array filled with 0’s:\n",
    "# np.zeros(4)\n",
    "\n",
    "# Or an array filled with 1’s:\n",
    "# np.ones(3)\n",
    "\n",
    "# The function empty creates an array whose initial content is random and depends on the state of the memory.\n",
    "# np.empty(2)\n",
    "\n",
    "# The NumPy full() function in Python is used to create an array with a specified shape and fill it with a given value.\n",
    "# np.full((3,2,4),99)\n",
    "# Ex- Return array with dtype=str\n",
    "np.full(shape=(3,2,4),fill_value='99', dtype=str)"
   ]
  },
  {
   "cell_type": "code",
   "execution_count": 32,
   "id": "68a5c0f7-1038-404f-8f5e-f0422e533e31",
   "metadata": {},
   "outputs": [
    {
     "data": {
      "text/plain": [
       "array([   0.,   53.,  106.,  159.,  212.,  265.,  318.,  371.,  424.,\n",
       "        477.,  530.,  583.,  636.,  689.,  742.,  795.,  848.,  901.,\n",
       "        954., 1007.])"
      ]
     },
     "execution_count": 32,
     "metadata": {},
     "output_type": "execute_result"
    }
   ],
   "source": [
    "# You can create an array with a range of elements:\n",
    "# np.arange(2,19,2.3)\n",
    "\n",
    "# You can also use np.linspace() to create an array with values that are spaced linearly in a specified interva\n",
    "np.linspace(0, 1007, num=20)"
   ]
  },
  {
   "cell_type": "code",
   "execution_count": null,
   "id": "1509810b-cb9d-4033-99ed-c4cf2ae25559",
   "metadata": {},
   "outputs": [],
   "source": []
  }
 ],
 "metadata": {
  "kernelspec": {
   "display_name": "Python 3 (ipykernel)",
   "language": "python",
   "name": "python3"
  },
  "language_info": {
   "codemirror_mode": {
    "name": "ipython",
    "version": 3
   },
   "file_extension": ".py",
   "mimetype": "text/x-python",
   "name": "python",
   "nbconvert_exporter": "python",
   "pygments_lexer": "ipython3",
   "version": "3.12.9"
  }
 },
 "nbformat": 4,
 "nbformat_minor": 5
}
