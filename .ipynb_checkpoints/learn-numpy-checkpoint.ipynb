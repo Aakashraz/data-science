{
 "cells": [
  {
   "cell_type": "code",
   "id": "1672328b-ad00-4bcc-a800-6fb29173c420",
   "metadata": {
    "ExecuteTime": {
     "end_time": "2025-03-14T16:12:32.226350Z",
     "start_time": "2025-03-14T16:12:32.064603Z"
    }
   },
   "source": [
    "import numpy as np"
   ],
   "outputs": [],
   "execution_count": 4
  },
  {
   "cell_type": "code",
   "id": "ce5100e3-3906-4caa-bd1d-870cad43a7f8",
   "metadata": {
    "ExecuteTime": {
     "end_time": "2025-03-14T16:12:41.249373Z",
     "start_time": "2025-03-14T16:12:41.244430Z"
    }
   },
   "source": [
    "a= np.array([1,.3, 43,54,9.65])"
   ],
   "outputs": [],
   "execution_count": 5
  },
  {
   "cell_type": "code",
   "execution_count": 15,
   "id": "476d1e9b-d0df-40d9-b154-917dc9c2e64b",
   "metadata": {},
   "outputs": [],
   "source": [
    "b= a[2:]"
   ]
  },
  {
   "cell_type": "code",
   "id": "217fa9d0-f068-4159-b377-58034600346b",
   "metadata": {
    "ExecuteTime": {
     "end_time": "2025-03-14T16:12:43.404509Z",
     "start_time": "2025-03-14T16:12:43.351845Z"
    }
   },
   "source": [
    "b[0]=33\n",
    "q = np.array([[[1, 2, 3, 4], [5, 6, 7, 8], [9, 10, 11, 12]], \n",
    "              [[23, 43, 4, 5],[1, 2, 3, 7],[5, 6, 7, 8]]])\n"
   ],
   "outputs": [
    {
     "ename": "NameError",
     "evalue": "name 'b' is not defined",
     "output_type": "error",
     "traceback": [
      "\u001B[1;31m---------------------------------------------------------------------------\u001B[0m",
      "\u001B[1;31mNameError\u001B[0m                                 Traceback (most recent call last)",
      "Cell \u001B[1;32mIn[6], line 1\u001B[0m\n\u001B[1;32m----> 1\u001B[0m b[\u001B[38;5;241m0\u001B[39m]\u001B[38;5;241m=\u001B[39m\u001B[38;5;241m33\u001B[39m\n\u001B[0;32m      2\u001B[0m q \u001B[38;5;241m=\u001B[39m np\u001B[38;5;241m.\u001B[39marray([[[\u001B[38;5;241m1\u001B[39m, \u001B[38;5;241m2\u001B[39m, \u001B[38;5;241m3\u001B[39m, \u001B[38;5;241m4\u001B[39m], [\u001B[38;5;241m5\u001B[39m, \u001B[38;5;241m6\u001B[39m, \u001B[38;5;241m7\u001B[39m, \u001B[38;5;241m8\u001B[39m], [\u001B[38;5;241m9\u001B[39m, \u001B[38;5;241m10\u001B[39m, \u001B[38;5;241m11\u001B[39m, \u001B[38;5;241m12\u001B[39m]], \n\u001B[0;32m      3\u001B[0m               [[\u001B[38;5;241m23\u001B[39m, \u001B[38;5;241m43\u001B[39m, \u001B[38;5;241m4\u001B[39m, \u001B[38;5;241m5\u001B[39m],[\u001B[38;5;241m1\u001B[39m, \u001B[38;5;241m2\u001B[39m, \u001B[38;5;241m3\u001B[39m, \u001B[38;5;241m7\u001B[39m],[\u001B[38;5;241m5\u001B[39m, \u001B[38;5;241m6\u001B[39m, \u001B[38;5;241m7\u001B[39m, \u001B[38;5;241m8\u001B[39m]]])\n",
      "\u001B[1;31mNameError\u001B[0m: name 'b' is not defined"
     ]
    }
   ],
   "execution_count": 6
  },
  {
   "cell_type": "code",
   "execution_count": 15,
   "id": "d0104917-0fe3-412b-b21c-4fb2330bbcad",
   "metadata": {},
   "outputs": [
    {
     "data": {
      "text/plain": [
       "np.int64(7)"
      ]
     },
     "execution_count": 15,
     "metadata": {},
     "output_type": "execute_result"
    }
   ],
   "source": [
    "q[1,2,2]"
   ]
  },
  {
   "cell_type": "code",
   "execution_count": 47,
   "id": "7c01b6ad-0c3d-4df9-9522-566bcfbd6e9b",
   "metadata": {},
   "outputs": [
    {
     "data": {
      "text/plain": [
       "dtype('int64')"
      ]
     },
     "execution_count": 47,
     "metadata": {},
     "output_type": "execute_result"
    }
   ],
   "source": [
    "# q.shape\n",
    "# q.ndim\n",
    "q.size\n",
    "q.dtype\n",
    "# type(q)"
   ]
  },
  {
   "cell_type": "code",
   "execution_count": 4,
   "id": "163251c2-655c-40e5-b723-771b98ffdc98",
   "metadata": {},
   "outputs": [],
   "source": [
    "b= np.array([[1,23,3], [3, 'hello', 'u'], [5,6,6]])"
   ]
  },
  {
   "cell_type": "code",
   "execution_count": 33,
   "id": "cd5a31d7-8f83-4d01-baea-78d952f527a5",
   "metadata": {},
   "outputs": [
    {
     "data": {
      "text/plain": [
       "dtype('<U21')"
      ]
     },
     "execution_count": 33,
     "metadata": {},
     "output_type": "execute_result"
    }
   ],
   "source": [
    "b.dtype"
   ]
  },
  {
   "cell_type": "code",
   "execution_count": 21,
   "id": "adc3c4b8-e985-4d91-9e67-2d39b3900527",
   "metadata": {},
   "outputs": [
    {
     "data": {
      "text/plain": [
       "array([1.27827064e-311, 0.00000000e+000])"
      ]
     },
     "execution_count": 21,
     "metadata": {},
     "output_type": "execute_result"
    }
   ],
   "source": [
    "# np.zeros(4)\n",
    "# np.ones(3)\n",
    "np.empty(2)"
   ]
  },
  {
   "cell_type": "code",
   "execution_count": 32,
   "id": "68a5c0f7-1038-404f-8f5e-f0422e533e31",
   "metadata": {},
   "outputs": [
    {
     "data": {
      "text/plain": [
       "array([   0.,   53.,  106.,  159.,  212.,  265.,  318.,  371.,  424.,\n",
       "        477.,  530.,  583.,  636.,  689.,  742.,  795.,  848.,  901.,\n",
       "        954., 1007.])"
      ]
     },
     "execution_count": 32,
     "metadata": {},
     "output_type": "execute_result"
    }
   ],
   "source": [
    "# np.arange(2,19,2.3)\n",
    "# You can also use np.linspace() to create an array with values that are spaced linearly in a specified interva\n",
    "np.linspace(0, 1007, num=20)"
   ]
  }
 ],
 "metadata": {
  "kernelspec": {
   "display_name": "Python 3 (ipykernel)",
   "language": "python",
   "name": "python3"
  },
  "language_info": {
   "codemirror_mode": {
    "name": "ipython",
    "version": 3
   },
   "file_extension": ".py",
   "mimetype": "text/x-python",
   "name": "python",
   "nbconvert_exporter": "python",
   "pygments_lexer": "ipython3",
   "version": "3.12.9"
  }
 },
 "nbformat": 4,
 "nbformat_minor": 5
}
