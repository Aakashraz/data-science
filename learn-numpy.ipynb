{
 "cells": [
  {
   "cell_type": "code",
   "execution_count": 14,
   "id": "1672328b-ad00-4bcc-a800-6fb29173c420",
   "metadata": {
    "ExecuteTime": {
     "end_time": "2025-03-14T16:12:32.226350Z",
     "start_time": "2025-03-14T16:12:32.064603Z"
    }
   },
   "outputs": [],
   "source": [
    "import numpy as np"
   ]
  },
  {
   "cell_type": "code",
   "execution_count": 2,
   "id": "ce5100e3-3906-4caa-bd1d-870cad43a7f8",
   "metadata": {
    "ExecuteTime": {
     "end_time": "2025-03-14T16:12:41.249373Z",
     "start_time": "2025-03-14T16:12:41.244430Z"
    }
   },
   "outputs": [],
   "source": [
    "a= np.array([1,.3, 43,54,9.65])"
   ]
  },
  {
   "cell_type": "code",
   "execution_count": 3,
   "id": "476d1e9b-d0df-40d9-b154-917dc9c2e64b",
   "metadata": {},
   "outputs": [],
   "source": [
    "b= a[2:]"
   ]
  },
  {
   "cell_type": "code",
   "execution_count": 4,
   "id": "217fa9d0-f068-4159-b377-58034600346b",
   "metadata": {
    "ExecuteTime": {
     "end_time": "2025-03-14T16:12:43.404509Z",
     "start_time": "2025-03-14T16:12:43.351845Z"
    }
   },
   "outputs": [],
   "source": [
    "b[0]=33\n",
    "q = np.array([[[1, 2, 3, 4], [5, 6, 7, 8], [9, 10, 11, 12]], \n",
    "              [[23, 43, 4, 5],[1, 2, 3, 7],[5, 6, 7, 8]]])\n"
   ]
  },
  {
   "cell_type": "code",
   "execution_count": 15,
   "id": "d0104917-0fe3-412b-b21c-4fb2330bbcad",
   "metadata": {},
   "outputs": [
    {
     "data": {
      "text/plain": [
       "np.int64(7)"
      ]
     },
     "execution_count": 15,
     "metadata": {},
     "output_type": "execute_result"
    }
   ],
   "source": [
    "q[1,2,2]"
   ]
  },
  {
   "cell_type": "code",
   "execution_count": 47,
   "id": "7c01b6ad-0c3d-4df9-9522-566bcfbd6e9b",
   "metadata": {},
   "outputs": [
    {
     "data": {
      "text/plain": [
       "dtype('int64')"
      ]
     },
     "execution_count": 47,
     "metadata": {},
     "output_type": "execute_result"
    }
   ],
   "source": [
    "# The shape of an array is a tuple of non-negative integers that specify the number of elements along each dimension.\n",
    "# q.shape\n",
    "\n",
    "# The number of dimensions of an array is contained in the ndim attribute.\n",
    "# q.ndim\n",
    "\n",
    "# The fixed, total number of elements in array is contained in the size attribute.\n",
    "# q.size\n",
    "\n",
    "# The data type is recorded in the dtype attribute.\n",
    "q.dtype\n",
    "# type(q)"
   ]
  },
  {
   "cell_type": "code",
   "execution_count": 6,
   "id": "163251c2-655c-40e5-b723-771b98ffdc98",
   "metadata": {},
   "outputs": [],
   "source": [
    "d = {1: 'A'}\n",
    "b= np.array([[1,23,3], \n",
    "             [3, d,9], \n",
    "             [5,6,6]])\n"
   ]
  },
  {
   "cell_type": "code",
   "execution_count": 9,
   "id": "cd5a31d7-8f83-4d01-baea-78d952f527a5",
   "metadata": {},
   "outputs": [
    {
     "name": "stdout",
     "output_type": "stream",
     "text": [
      "object\n"
     ]
    },
    {
     "data": {
      "text/plain": [
       "dtype('O')"
      ]
     },
     "execution_count": 9,
     "metadata": {},
     "output_type": "execute_result"
    }
   ],
   "source": [
    "print(b.dtype)\n",
    "b.dtype"
   ]
  },
  {
   "cell_type": "code",
   "execution_count": 16,
   "id": "adc3c4b8-e985-4d91-9e67-2d39b3900527",
   "metadata": {},
   "outputs": [
    {
     "data": {
      "text/plain": [
       "array([[['555', '555', '555', '555'],\n",
       "        ['555', '555', '555', '555']],\n",
       "\n",
       "       [['555', '555', '555', '555'],\n",
       "        ['555', '555', '555', '555']],\n",
       "\n",
       "       [['555', '555', '555', '555'],\n",
       "        ['555', '555', '555', '555']]], dtype='<U3')"
      ]
     },
     "execution_count": 16,
     "metadata": {},
     "output_type": "execute_result"
    }
   ],
   "source": [
    "# Besides creating an array from a sequence of elements, you can easily create an array filled with 0’s:\n",
    "# np.zeros(4)\n",
    "# Create an random(empty) array with datatype float and order \"C\"\n",
    "np.empty(3,float,'C')\n",
    "\n",
    "\n",
    "# Or an array filled with 1’s:\n",
    "# np.ones(3)\n",
    "\n",
    "# The function empty creates an array whose initial content is random and depends on the state of the memory.\n",
    "# np.empty(2)\n",
    "\n",
    "# The NumPy full() function in Python is used to create an array with a specified shape and fill it with a given value.\n",
    "# np.full((3,2,4),99)\n",
    "# Example - Return array with dtype=str\n",
    "np.full(shape=(3,2,4),fill_value='555', dtype='<U3')"
   ]
  },
  {
   "cell_type": "code",
   "execution_count": 32,
   "id": "68a5c0f7-1038-404f-8f5e-f0422e533e31",
   "metadata": {},
   "outputs": [
    {
     "data": {
      "text/plain": [
       "array([   0.,   53.,  106.,  159.,  212.,  265.,  318.,  371.,  424.,\n",
       "        477.,  530.,  583.,  636.,  689.,  742.,  795.,  848.,  901.,\n",
       "        954., 1007.])"
      ]
     },
     "execution_count": 32,
     "metadata": {},
     "output_type": "execute_result"
    }
   ],
   "source": [
    "# You can create an array with a range of elements:\n",
    "# np.arange(2,19,2.3)\n",
    "\n",
    "# You can also use np.linspace() to create an array with values that are spaced linearly in a specified interva\n",
    "np.linspace(0, 1007, num=20)"
   ]
  },
  {
   "cell_type": "code",
   "execution_count": 25,
   "id": "1509810b-cb9d-4033-99ed-c4cf2ae25559",
   "metadata": {
    "scrolled": true
   },
   "outputs": [
    {
     "name": "stderr",
     "output_type": "stream",
     "text": [
      "C:\\Users\\USER\\AppData\\Local\\Temp\\ipykernel_14356\\3236165812.py:1: RuntimeWarning: invalid value encountered in sqrt\n",
      "  np.sqrt(-1)\n"
     ]
    },
    {
     "data": {
      "text/plain": [
       "np.float64(nan)"
      ]
     },
     "execution_count": 25,
     "metadata": {},
     "output_type": "execute_result"
    }
   ],
   "source": [
    "np.sqrt(-1)\n",
    "# np.array([2])/0"
   ]
  },
  {
   "cell_type": "code",
   "execution_count": 37,
   "id": "0113fc25-cf43-4224-93df-0cf36dad1a1e",
   "metadata": {},
   "outputs": [
    {
     "data": {
      "text/plain": [
       "array([[ 3,  8, 15],\n",
       "       [ 5, 12, 21]])"
      ]
     },
     "execution_count": 37,
     "metadata": {},
     "output_type": "execute_result"
    }
   ],
   "source": [
    "a1= np.array([1,2,3])\n",
    "a2 = np.array([[3,4,5],\n",
    "             [5,6,7]])\n",
    "\n",
    "# a2@a1\n",
    "a1*a2"
   ]
  },
  {
   "cell_type": "code",
   "execution_count": 24,
   "id": "5adea83a-0880-4187-bf1a-caff27ac358d",
   "metadata": {},
   "outputs": [
    {
     "name": "stdout",
     "output_type": "stream",
     "text": [
      "[42 51 60] [20 47 74] [42 51 60] [20 47 74]\n"
     ]
    }
   ],
   "source": [
    "v = np.array([2,3,4])\n",
    "M = np.array([[1,2,3],\n",
    "             [4,5,6],\n",
    "             [7,8,9]])\n",
    "p= v@M\n",
    "q = M@v\n",
    "r= np.dot(v,M)\n",
    "s= np.dot(M, v)\n",
    "print(p, q, r,s)"
   ]
  },
  {
   "cell_type": "code",
   "execution_count": 37,
   "id": "aa09d8c3-8689-4d3a-be77-56168c63f9ac",
   "metadata": {},
   "outputs": [
    {
     "name": "stdout",
     "output_type": "stream",
     "text": [
      "[ 5  6  7  8  9 10 11 12]\n",
      "[ 2  4  6  8 10 12]\n"
     ]
    }
   ],
   "source": [
    "arr = np.array([[1 , 2, 3, 4], [5, 6, 7, 8], [9, 10, 11, 12]])\n",
    "five_up = (arr>=5)\n",
    "print(arr[five_up])\n",
    "even = (arr%2==0)\n",
    "print(a[even])"
   ]
  },
  {
   "cell_type": "code",
   "execution_count": 51,
   "id": "8c37ddd9-b2d3-4c9e-93db-c4b767c5b6fa",
   "metadata": {},
   "outputs": [
    {
     "data": {
      "text/plain": [
       "array([[1, 1, 3, 3],\n",
       "       [2, 2, 4, 4],\n",
       "       [5, 5, 6, 6]])"
      ]
     },
     "execution_count": 51,
     "metadata": {},
     "output_type": "execute_result"
    }
   ],
   "source": [
    "a1 = np.array([[1,1],[2,2],[5,5]])\n",
    "a2 = np.array([[3,3],[4,4],[6,6]])\n",
    "# np.vstack((a1,a2))\n",
    "np.hstack((a1, a2))"
   ]
  },
  {
   "cell_type": "code",
   "execution_count": 227,
   "id": "439f73f8-f9cc-489b-b42a-17dba2de9c42",
   "metadata": {},
   "outputs": [
    {
     "data": {
      "text/plain": [
       "array([[[1, 1],\n",
       "        [1, 1],\n",
       "        [1, 1]],\n",
       "\n",
       "       [[1, 1],\n",
       "        [1, 1],\n",
       "        [1, 1]],\n",
       "\n",
       "       [[1, 1],\n",
       "        [1, 1],\n",
       "        [1, 1]],\n",
       "\n",
       "       [[1, 1],\n",
       "        [1, 1],\n",
       "        [1, 1]]])"
      ]
     },
     "execution_count": 227,
     "metadata": {},
     "output_type": "execute_result"
    }
   ],
   "source": [
    "data = np.array([10,20])\n",
    "# ones = np.ones(2, dtype = int)\n",
    "ones= np.ones((4,3,2), dtype=int)\n",
    "ones\n",
    "# ones*data"
   ]
  },
  {
   "cell_type": "code",
   "execution_count": 171,
   "id": "a2543d5a-01ae-4b44-9660-1082cba008fa",
   "metadata": {},
   "outputs": [
    {
     "data": {
      "text/plain": [
       "(array([21, 24, 27, 30, 33, 36]), array([21, 57, 93]))"
      ]
     },
     "execution_count": 171,
     "metadata": {},
     "output_type": "execute_result"
    }
   ],
   "source": [
    "ss = np.array([[1,2,3,4,5,6],\n",
    "                [7,8,9,10,11,12],\n",
    "                [13,14,15,16,17,18]])\n",
    "rows = ss.sum(axis=0) # Use axis=0 to apply a method down each column, or to the row labels (the index).\n",
    "cols = ss.sum(axis=1) # Use axis=1 to apply a method across each row, or to the column labels.\n",
    "rows, cols"
   ]
  },
  {
   "cell_type": "code",
   "execution_count": 172,
   "id": "c58b6ae8-0e72-4a24-bd69-d6fb44a1b1c3",
   "metadata": {
    "scrolled": true
   },
   "outputs": [
    {
     "data": {
      "text/plain": [
       "(array([[ 9, 12],\n",
       "        [27, 30],\n",
       "        [45, 48]]),\n",
       " array([[ 3,  7, 11],\n",
       "        [15, 19, 23],\n",
       "        [27, 31, 35]]),\n",
       " array([[21, 24],\n",
       "        [27, 30],\n",
       "        [33, 36]]),\n",
       " array([[[ 1,  2],\n",
       "         [ 3,  4],\n",
       "         [ 5,  6]],\n",
       " \n",
       "        [[ 7,  8],\n",
       "         [ 9, 10],\n",
       "         [11, 12]],\n",
       " \n",
       "        [[13, 14],\n",
       "         [15, 16],\n",
       "         [17, 18]]]))"
      ]
     },
     "execution_count": 172,
     "metadata": {},
     "output_type": "execute_result"
    }
   ],
   "source": [
    "vv =ss.reshape(3,3,2)\n",
    "# print(vv)\n",
    "x =vv.sum(axis=1)\n",
    "y =vv.sum(axis=2)\n",
    "z =vv.sum(axis=0)\n",
    "x, y, z, vv"
   ]
  },
  {
   "cell_type": "code",
   "execution_count": 186,
   "id": "00ba9074-1d4b-4e92-8107-4c37be317ba9",
   "metadata": {},
   "outputs": [
    {
     "data": {
      "text/plain": [
       "(array([[ 1.5,  3.5,  5.5],\n",
       "        [ 7.5,  9.5, 11.5],\n",
       "        [13.5, 15.5, 17.5]]),\n",
       " array([[13, 14],\n",
       "        [15, 16],\n",
       "        [17, 18]]),\n",
       " array([[ 1,  2],\n",
       "        [ 7,  8],\n",
       "        [13, 14]]))"
      ]
     },
     "execution_count": 186,
     "metadata": {},
     "output_type": "execute_result"
    }
   ],
   "source": [
    "mean= vv.mean(axis=2)\n",
    "maxi = vv.max(axis=0)\n",
    "mini = vv.min(axis=1)\n",
    "mean, maxi, mini"
   ]
  },
  {
   "cell_type": "code",
   "execution_count": 7,
   "id": "bb9b3f82-0793-4014-9a8f-bfeaa14ac489",
   "metadata": {},
   "outputs": [
    {
     "data": {
      "text/plain": [
       "array([[0, 4, 1, 4],\n",
       "       [0, 3, 0, 1]])"
      ]
     },
     "execution_count": 7,
     "metadata": {},
     "output_type": "execute_result"
    }
   ],
   "source": [
    "# Creating a Random Number Generator\n",
    "rng = np.random.default_rng()\n",
    "# this line creates an instance of NumPy's Generator. The method np.random.default_rng()\n",
    "# by default uses the PCG64 bit generator.\n",
    "rng.random((4,3))\n",
    "# You can generate a 2 x 4 array of random integers between 0 and 4 with:\n",
    "rng.integers(5, size=(2,4))"
   ]
  },
  {
   "cell_type": "code",
   "execution_count": 29,
   "id": "45b39524-55d1-4603-829b-caaead9d7563",
   "metadata": {},
   "outputs": [
    {
     "data": {
      "text/plain": [
       "(array([0, 1, 2]), array([2, 1, 1]))"
      ]
     },
     "execution_count": 29,
     "metadata": {},
     "output_type": "execute_result"
    }
   ],
   "source": [
    "# How to get unique items and counts\n",
    "a_2d = np.array([[1, 2, 3, 4], [5, 6, 7, 8], [9, 10, 11, 12], [1, 2, 3, 4]])\n",
    "unique_values = np.unique(a_2d)\n",
    "# unique_values\n",
    "# If the axis argument isn’t passed, your 2D array will be flattened.\n",
    "# If you want to get the unique rows or columns, make sure to pass the axis argument. \n",
    "# To find the unique rows, specify axis=0 and for columns, specify axis=1.\n",
    "unique_rows = np.unique(a_2d, axis=0)\n",
    "# To get the unique rows, index position, and occurrence count, you can use:\n",
    "unique_rows, indices, count = np.unique(a_2d, axis=0, return_counts=True, return_index=True)\n",
    "indices, count"
   ]
  },
  {
   "cell_type": "code",
   "execution_count": 26,
   "id": "58a21c6b-4473-4c9e-932f-67355cf3d01e",
   "metadata": {},
   "outputs": [
    {
     "data": {
      "text/plain": [
       "array([[0, 3],\n",
       "       [1, 4],\n",
       "       [2, 5]])"
      ]
     },
     "execution_count": 26,
     "metadata": {},
     "output_type": "execute_result"
    }
   ],
   "source": [
    "arr = np.arange(6).reshape((2,3))\n",
    "arr, arr.T\n",
    "arr.transpose()"
   ]
  },
  {
   "cell_type": "code",
   "execution_count": 54,
   "id": "23e32048-60eb-4226-be63-b66a9b6c72cd",
   "metadata": {},
   "outputs": [
    {
     "data": {
      "text/plain": [
       "(array([10,  6,  2]),\n",
       " array([[ 1,  2,  3,  4],\n",
       "        [ 5,  6,  7,  8],\n",
       "        [ 9, 10, 11, 12]]))"
      ]
     },
     "execution_count": 54,
     "metadata": {},
     "output_type": "execute_result"
    }
   ],
   "source": [
    "arr_2d = np.array([[1, 2, 3, 4], [5, 6, 7, 8], [9, 10, 11, 12]])\n",
    "# You can also reverse the column at index position 1 (the second column):\n",
    "arr_2dflip = np.flip(arr_2d[:, 1])\n",
    "arr_2dflip, arr_2d\n",
    "# Docstring\n",
    "# arr_2d?"
   ]
  }
 ],
 "metadata": {
  "kernelspec": {
   "display_name": "Python 3 (ipykernel)",
   "language": "python",
   "name": "python3"
  },
  "language_info": {
   "codemirror_mode": {
    "name": "ipython",
    "version": 3
   },
   "file_extension": ".py",
   "mimetype": "text/x-python",
   "name": "python",
   "nbconvert_exporter": "python",
   "pygments_lexer": "ipython3",
   "version": "3.12.9"
  }
 },
 "nbformat": 4,
 "nbformat_minor": 5
}
